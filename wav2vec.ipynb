{
 "cells": [
  {
   "cell_type": "code",
   "execution_count": null,
   "metadata": {},
   "outputs": [],
   "source": [
    "!pip install transformers\n",
    "!pip install peft"
   ]
  },
  {
   "cell_type": "code",
   "execution_count": 108,
   "metadata": {},
   "outputs": [],
   "source": [
    "from transformers import Wav2Vec2ForSequenceClassification, Wav2Vec2Processor\n",
    "import torch\n",
    "import librosa\n",
    "import numpy as np\n",
    "import matplotlib.pyplot as plt\n",
    "import csv\n",
    "import os\n",
    "import pandas as pd\n",
    "\n",
    "from torch.optim.lr_scheduler import StepLR     # for dynamic learning rate\n",
    "from torch.optim.lr_scheduler import ReduceLROnPlateau\n",
    "\n",
    "from torch.utils.data import Dataset, DataLoader\n",
    "from sklearn.metrics import accuracy_score, precision_score, recall_score\n",
    "from transformers import Wav2Vec2ForSequenceClassification, AdamW\n",
    "from peft import get_peft_model, LoraConfig, TaskType\n",
    "from transformers import Wav2Vec2ForSequenceClassification\n",
    "from sklearn.metrics import f1_score\n",
    "from torch.utils.data import Dataset, DataLoader\n",
    "from sklearn.preprocessing import LabelEncoder\n",
    "from sklearn.model_selection import train_test_split\n",
    "from peft import get_peft_model, LoraConfig, TaskType\n",
    "from transformers import Wav2Vec2ForSequenceClassification\n",
    "from torch.optim import AdamW\n",
    "from tqdm import tqdm\n",
    "from transformers import Wav2Vec2ForSequenceClassification, AdamW\n",
    "from sklearn.metrics import accuracy_score, precision_score, recall_score\n",
    "\n",
    "\n",
    "import seaborn as sns\n",
    "from sklearn.metrics import confusion_matrix, ConfusionMatrixDisplay"
   ]
  },
  {
   "cell_type": "code",
   "execution_count": 10,
   "metadata": {},
   "outputs": [
    {
     "name": "stdout",
     "output_type": "stream",
     "text": [
      "      slice_file_name    fsID  start        end  salience  fold  classID  \\\n",
      "0    100032-3-0-0.wav  100032    0.0   0.317551         1     5        3   \n",
      "1  100263-2-0-117.wav  100263   58.5  62.500000         1     5        2   \n",
      "2  100263-2-0-121.wav  100263   60.5  64.500000         1     5        2   \n",
      "3  100263-2-0-126.wav  100263   63.0  67.000000         1     5        2   \n",
      "4  100263-2-0-137.wav  100263   68.5  72.500000         1     5        2   \n",
      "\n",
      "              class  \n",
      "0          dog_bark  \n",
      "1  children_playing  \n",
      "2  children_playing  \n",
      "3  children_playing  \n",
      "4  children_playing  \n",
      "<class 'pandas.core.frame.DataFrame'>\n",
      "RangeIndex: 8732 entries, 0 to 8731\n",
      "Data columns (total 8 columns):\n",
      " #   Column           Non-Null Count  Dtype  \n",
      "---  ------           --------------  -----  \n",
      " 0   slice_file_name  8732 non-null   object \n",
      " 1   fsID             8732 non-null   int64  \n",
      " 2   start            8732 non-null   float64\n",
      " 3   end              8732 non-null   float64\n",
      " 4   salience         8732 non-null   int64  \n",
      " 5   fold             8732 non-null   int64  \n",
      " 6   classID          8732 non-null   int64  \n",
      " 7   class            8732 non-null   object \n",
      "dtypes: float64(2), int64(4), object(2)\n",
      "memory usage: 545.9+ KB\n",
      "None\n"
     ]
    },
    {
     "data": {
      "image/png": "[encoded data removed]",
      "text/plain": [
       "<Figure size 640x480 with 1 Axes>"
      ]
     },
     "metadata": {},
     "output_type": "display_data"
    }
   ],
   "source": [
    "df = pd.read_csv('urbansound8k/metadata/UrbanSound8K.csv')\n",
    "print(df.head())\n",
    "print(df.info())\n",
    "sns.countplot(x=df['classID'])\n",
    "plt.title('Class Distribution')\n",
    "plt.show()\n"
   ]
  },
  {
   "cell_type": "code",
   "execution_count": 15,
   "metadata": {},
   "outputs": [],
   "source": [
    "audio_files = []\n",
    "labels = []\n",
    "\n",
    "label_dict = {}\n",
    "with open(\"urbansound8k/metadata/UrbanSound8K.csv\") as f:\n",
    "    reader = csv.reader(f)\n",
    "    next(reader)\n",
    "    for row in reader:\n",
    "        label_dict[row[0]] = row[7]\n",
    "\n",
    "for fold in range(1, 11):  # UrbanSound8K contains data in 10 folds   relative path ---> UrbanSound8K/audio\n",
    "    fold_path = f\"UrbanSound8K/audio/fold{fold}/\"\n",
    "    for filename in os.listdir(fold_path):\n",
    "        if filename.endswith('.wav'):\n",
    "            file_path = os.path.join(fold_path, filename)\n",
    "            data, sr = librosa.load(file_path, sr=None)\n",
    "            audio_files.append((data, sr))\n",
    "            labels.append(label_dict[filename])\n"
   ]
  },
  {
   "cell_type": "markdown",
   "metadata": {},
   "source": [
    "## Zero Shot Classification using Wave2Vec2"
   ]
  },
  {
   "cell_type": "markdown",
   "metadata": {},
   "source": [
    "### Loading the Pretrained Wave2Vec2 with classification Head"
   ]
  },
  {
   "cell_type": "code",
   "execution_count": 6,
   "metadata": {},
   "outputs": [
    {
     "name": "stderr",
     "output_type": "stream",
     "text": [
      "/Users/guneeshvats/miniconda3/envs/adalat_v3/lib/python3.8/site-packages/huggingface_hub/file_download.py:1150: FutureWarning: `resume_download` is deprecated and will be removed in version 1.0.0. Downloads always resume when possible. If you want to force a new download, use `force_download=True`.\n",
      "  warnings.warn(\n",
      "Some weights of Wav2Vec2ForSequenceClassification were not initialized from the model checkpoint at facebook/wav2vec2-base-960h and are newly initialized: ['classifier.bias', 'classifier.weight', 'projector.bias', 'projector.weight', 'wav2vec2.encoder.pos_conv_embed.conv.parametrizations.weight.original0', 'wav2vec2.encoder.pos_conv_embed.conv.parametrizations.weight.original1', 'wav2vec2.masked_spec_embed']\n",
      "You should probably TRAIN this model on a down-stream task to be able to use it for predictions and inference.\n"
     ]
    }
   ],
   "source": [
    "# Load pretrained Wave2Vec2 model with a classification head\n",
    "model = Wav2Vec2ForSequenceClassification.from_pretrained(\"facebook/wav2vec2-base-960h\", num_labels=10)\n",
    "processor = Wav2Vec2Processor.from_pretrained(\"facebook/wav2vec2-base-960h\")\n",
    "\n",
    "# Define target sampling rate\n",
    "TARGET_SR = 16000"
   ]
  },
  {
   "cell_type": "markdown",
   "metadata": {},
   "source": [
    "### Prepating the dataset and predicting\n"
   ]
  },
  {
   "cell_type": "code",
   "execution_count": 24,
   "metadata": {},
   "outputs": [],
   "source": [
    "le = LabelEncoder()\n",
    "y = le.fit_transform(labels)  # Encode string labels into integers"
   ]
  },
  {
   "cell_type": "code",
   "execution_count": 28,
   "metadata": {},
   "outputs": [
    {
     "data": {
      "text/plain": [
       "array([2, 6, 0, 0, 7, 7, 4, 7, 5, 4, 3, 7, 7, 8, 7, 5, 4, 8, 9, 4, 2, 7,\n",
       "       8, 7, 8, 8, 9, 2, 7, 3, 9, 6, 8, 9, 9, 5, 7, 7, 8, 9, 5, 4, 2, 7,\n",
       "       4, 0, 3, 7, 2, 0, 3, 7, 4, 2, 0, 3, 0, 7, 0, 0, 7, 4, 3, 4, 8, 7,\n",
       "       4, 5, 3, 2, 7, 7, 2, 7, 8, 6, 9, 7, 2, 7, 4, 8, 3, 7, 2, 4, 7, 8,\n",
       "       7, 5, 2, 9, 3, 4, 8, 7, 7, 9, 4, 2, 7, 7, 0, 0, 0, 3, 3, 0, 3, 0,\n",
       "       7, 0, 0, 3, 3, 7, 2, 7, 7, 9, 8, 3, 5, 5, 7, 4, 9, 9, 3, 7, 7, 3,\n",
       "       8, 9, 9, 8, 7, 4, 5, 7, 5, 7, 6, 7, 8, 7, 3, 6, 9, 0, 0, 7, 1, 3,\n",
       "       2, 6, 3, 0, 7, 3, 0, 6, 5, 1, 3, 3, 3, 2, 3, 3, 7, 4, 8, 8, 7, 9,\n",
       "       9, 3, 5, 7, 5, 1, 1, 7, 7, 8, 8, 3, 9, 7, 3, 7, 5, 7, 2, 5, 3, 8,\n",
       "       9, 8])"
      ]
     },
     "execution_count": 28,
     "metadata": {},
     "output_type": "execute_result"
    }
   ],
   "source": [
    "y[0:200]"
   ]
  },
  {
   "cell_type": "code",
   "execution_count": 29,
   "metadata": {},
   "outputs": [],
   "source": [
    "# Preprocess audio files and get zero-shot predictions\n",
    "zero_shot_preds = []\n",
    "true_labels = []\n",
    "\n",
    "for i, (data, sr) in enumerate(audio_files):\n",
    "    # Resample if necessary\n",
    "    if sr != TARGET_SR:\n",
    "        data = librosa.resample(data, orig_sr=sr, target_sr=TARGET_SR)\n",
    "    \n",
    "    # Preprocess with the processor\n",
    "    inputs = processor(data, sampling_rate=TARGET_SR, return_tensors=\"pt\", padding=True)\n",
    "    \n",
    "    # Perform inference without fine-tuning\n",
    "    with torch.no_grad():\n",
    "        logits = model(**inputs).logits\n",
    "        predicted_label = torch.argmax(logits, dim=-1).item()\n",
    "        zero_shot_preds.append(predicted_label)\n",
    "    \n",
    "    # Store true label\n",
    "    true_labels.append(y[i])\n"
   ]
  },
  {
   "cell_type": "markdown",
   "metadata": {},
   "source": [
    "### Evaluating Zero Shot Classification"
   ]
  },
  {
   "cell_type": "code",
   "execution_count": 30,
   "metadata": {},
   "outputs": [
    {
     "name": "stdout",
     "output_type": "stream",
     "text": [
      "Zero-Shot Classification:\n",
      "Accuracy: 0.14\n",
      "Precision: 0.07\n",
      "Recall: 0.17\n"
     ]
    },
    {
     "name": "stderr",
     "output_type": "stream",
     "text": [
      "/Users/guneeshvats/miniconda3/envs/adalat_v3/lib/python3.8/site-packages/sklearn/metrics/_classification.py:1469: UndefinedMetricWarning: Precision is ill-defined and being set to 0.0 in labels with no predicted samples. Use `zero_division` parameter to control this behavior.\n",
      "  _warn_prf(average, modifier, msg_start, len(result))\n"
     ]
    }
   ],
   "source": [
    "zero_shot_accuracy = accuracy_score(true_labels, zero_shot_preds)\n",
    "zero_shot_precision = precision_score(true_labels, zero_shot_preds, average=\"macro\")\n",
    "zero_shot_recall = recall_score(true_labels, zero_shot_preds, average=\"macro\")\n",
    "\n",
    "# Display results\n",
    "print(\"Zero-Shot Classification:\")\n",
    "print(f\"Accuracy: {zero_shot_accuracy:.2f}\")\n",
    "print(f\"Precision: {zero_shot_precision:.2f}\")\n",
    "print(f\"Recall: {zero_shot_recall:.2f}\")\n"
   ]
  },
  {
   "cell_type": "markdown",
   "metadata": {},
   "source": [
    "## Fine Tuning with LORA"
   ]
  },
  {
   "cell_type": "markdown",
   "metadata": {},
   "source": [
    "### Preparing the data for fine tuning"
   ]
  },
  {
   "cell_type": "code",
   "execution_count": 34,
   "metadata": {},
   "outputs": [
    {
     "name": "stdout",
     "output_type": "stream",
     "text": [
      "Number of training samples: 6985\n",
      "Number of test samples: 1747\n"
     ]
    }
   ],
   "source": [
    "# Split audio_files and labels into training and test sets\n",
    "X_train, X_test, y_train, y_test = train_test_split(audio_files, y, test_size=0.2, random_state=42)\n",
    "\n",
    "print(f\"Number of training samples: {len(X_train)}\")\n",
    "print(f\"Number of test samples: {len(X_test)}\")"
   ]
  },
  {
   "cell_type": "code",
   "execution_count": 66,
   "metadata": {},
   "outputs": [],
   "source": [
    "# Example of a properly formatted dataset\n",
    "class UrbanSoundDataset(Dataset):\n",
    "    def __init__(self, audio_files, labels, processor, target_sr=16000, max_length=64000):\n",
    "        self.audio_files = audio_files\n",
    "        self.labels = labels\n",
    "        self.processor = processor\n",
    "        self.target_sr = target_sr\n",
    "        self.max_length = max_length  # Maximum length to pad/truncate audio\n",
    "\n",
    "    def __len__(self):\n",
    "        return len(self.audio_files)\n",
    "\n",
    "    def __getitem__(self, idx):\n",
    "        data, sr = self.audio_files[idx]\n",
    "        \n",
    "        # Resample audio to target sample rate\n",
    "        if sr != self.target_sr:\n",
    "            data = librosa.resample(data, orig_sr=sr, target_sr=self.target_sr)\n",
    "        \n",
    "        # Pad or truncate audio to max_length\n",
    "        if len(data) > self.max_length:\n",
    "            data = data[:self.max_length]\n",
    "        else:\n",
    "            data = np.pad(data, (0, self.max_length - len(data)), mode='constant')\n",
    "        \n",
    "        # Preprocess audio and create input\n",
    "        inputs = self.processor(data, sampling_rate=self.target_sr, return_tensors=\"pt\", padding=True)\n",
    "        return {\n",
    "            \"input_values\": inputs[\"input_values\"].squeeze(0),  # Ensure correct format\n",
    "            \"labels\": torch.tensor(self.labels[idx], dtype=torch.long),\n",
    "    }\n",
    "\n"
   ]
  },
  {
   "cell_type": "code",
   "execution_count": 114,
   "metadata": {},
   "outputs": [
    {
     "name": "stdout",
     "output_type": "stream",
     "text": [
      "Validating DataLoader...\n",
      "Input Values Shape: torch.Size([8, 64000])\n",
      "Labels Shape: torch.Size([8])\n"
     ]
    }
   ],
   "source": [
    "# Train-Test Split\n",
    "X_train, X_test, y_train, y_test = train_test_split(audio_files, y, test_size=0.2, random_state=42)\n",
    "\n",
    "# Define UrbanSoundDataset and DataLoader\n",
    "train_dataset = UrbanSoundDataset(X_train, y_train, processor)\n",
    "test_dataset = UrbanSoundDataset(X_test, y_test, processor)\n",
    "\n",
    "train_loader = DataLoader(train_dataset, batch_size=8, shuffle=True)\n",
    "test_loader = DataLoader(test_dataset, batch_size=8)\n",
    "\n",
    "# Validate the DataLoader\n",
    "print(\"Validating DataLoader...\")\n",
    "for batch in train_loader:\n",
    "    print(f\"Input Values Shape: {batch['input_values'].shape}\")  # Should be [batch_size, max_length]\n",
    "    print(f\"Labels Shape: {batch['labels'].shape}\")  # Should be [batch_size]\n",
    "    break  # Check only the first batch\n"
   ]
  },
  {
   "cell_type": "code",
   "execution_count": 72,
   "metadata": {},
   "outputs": [
    {
     "name": "stdout",
     "output_type": "stream",
     "text": [
      "dict_keys(['input_values', 'labels'])\n",
      "torch.Size([8, 64000])\n",
      "torch.Size([8])\n"
     ]
    }
   ],
   "source": [
    "batch = next(iter(train_loader))\n",
    "print(batch.keys())  # Should include 'input_values' and 'labels'\n",
    "print(batch[\"input_values\"].shape)  # Expected: [batch_size, max_length]\n",
    "print(batch[\"labels\"].shape)  # Expected: [batch_size]\n"
   ]
  },
  {
   "cell_type": "markdown",
   "metadata": {},
   "source": [
    "### Fine tuning using LORA"
   ]
  },
  {
   "cell_type": "code",
   "execution_count": 113,
   "metadata": {},
   "outputs": [
    {
     "name": "stderr",
     "output_type": "stream",
     "text": [
      "Some weights of Wav2Vec2ForSequenceClassification were not initialized from the model checkpoint at facebook/wav2vec2-base-960h and are newly initialized: ['classifier.bias', 'classifier.weight', 'projector.bias', 'projector.weight', 'wav2vec2.encoder.pos_conv_embed.conv.parametrizations.weight.original0', 'wav2vec2.encoder.pos_conv_embed.conv.parametrizations.weight.original1', 'wav2vec2.masked_spec_embed']\n",
      "You should probably TRAIN this model on a down-stream task to be able to use it for predictions and inference.\n"
     ]
    },
    {
     "name": "stdout",
     "output_type": "stream",
     "text": [
      "SequenceClassifierOutput(loss=tensor(2.2925, grad_fn=<NllLossBackward0>), logits=tensor([[ 0.0100, -0.0136,  0.0152,  0.0107,  0.0368, -0.0037, -0.0478, -0.0381,\n",
      "          0.0099,  0.0266],\n",
      "        [-0.0430, -0.0375, -0.0329, -0.0108,  0.0164, -0.0601, -0.0472, -0.0272,\n",
      "         -0.0067, -0.0025],\n",
      "        [-0.0783, -0.0334, -0.0290, -0.0038,  0.0368, -0.0750, -0.0618, -0.0062,\n",
      "         -0.0010, -0.0207],\n",
      "        [-0.0185, -0.0049, -0.0316, -0.0127,  0.0087, -0.0181, -0.0125, -0.0306,\n",
      "          0.0088,  0.0042],\n",
      "        [-0.0420, -0.0136, -0.0389, -0.0099,  0.0130, -0.0452, -0.0278, -0.0258,\n",
      "          0.0175,  0.0212],\n",
      "        [-0.0191, -0.0148, -0.0074,  0.0081,  0.0171, -0.0138, -0.0220, -0.0370,\n",
      "          0.0217,  0.0228],\n",
      "        [-0.0536, -0.0182, -0.0079,  0.0038,  0.0241, -0.0523, -0.0286, -0.0231,\n",
      "          0.0051, -0.0055],\n",
      "        [-0.0533, -0.0440, -0.0340, -0.0151,  0.0185, -0.0712, -0.0576, -0.0244,\n",
      "         -0.0185,  0.0031]], grad_fn=<AddmmBackward0>), hidden_states=None, attentions=None)\n"
     ]
    }
   ],
   "source": [
    "# Testing the base model :\n",
    "# Load the base model without LoRA\n",
    "base_model = Wav2Vec2ForSequenceClassification.from_pretrained(\"facebook/wav2vec2-base-960h\", num_labels=10)\n",
    "base_model.to(device)\n",
    "\n",
    "# Test a forward pass with the base model\n",
    "outputs = base_model(input_values=batch[\"input_values\"].to(device), labels=batch[\"labels\"].to(device))\n",
    "print(outputs)"
   ]
  },
  {
   "cell_type": "code",
   "execution_count": 85,
   "metadata": {},
   "outputs": [
    {
     "name": "stdout",
     "output_type": "stream",
     "text": [
      "\n",
      "wav2vec2\n",
      "wav2vec2.feature_extractor\n",
      "wav2vec2.feature_extractor.conv_layers\n",
      "wav2vec2.feature_extractor.conv_layers.0\n",
      "wav2vec2.feature_extractor.conv_layers.0.conv\n",
      "wav2vec2.feature_extractor.conv_layers.0.activation\n",
      "wav2vec2.feature_extractor.conv_layers.0.layer_norm\n",
      "wav2vec2.feature_extractor.conv_layers.1\n",
      "wav2vec2.feature_extractor.conv_layers.1.conv\n",
      "wav2vec2.feature_extractor.conv_layers.1.activation\n",
      "wav2vec2.feature_extractor.conv_layers.2\n",
      "wav2vec2.feature_extractor.conv_layers.2.conv\n",
      "wav2vec2.feature_extractor.conv_layers.2.activation\n",
      "wav2vec2.feature_extractor.conv_layers.3\n",
      "wav2vec2.feature_extractor.conv_layers.3.conv\n",
      "wav2vec2.feature_extractor.conv_layers.3.activation\n",
      "wav2vec2.feature_extractor.conv_layers.4\n",
      "wav2vec2.feature_extractor.conv_layers.4.conv\n",
      "wav2vec2.feature_extractor.conv_layers.4.activation\n",
      "wav2vec2.feature_extractor.conv_layers.5\n",
      "wav2vec2.feature_extractor.conv_layers.5.conv\n",
      "wav2vec2.feature_extractor.conv_layers.5.activation\n",
      "wav2vec2.feature_extractor.conv_layers.6\n",
      "wav2vec2.feature_extractor.conv_layers.6.conv\n",
      "wav2vec2.feature_extractor.conv_layers.6.activation\n",
      "wav2vec2.feature_projection\n",
      "wav2vec2.feature_projection.layer_norm\n",
      "wav2vec2.feature_projection.projection\n",
      "wav2vec2.feature_projection.dropout\n",
      "wav2vec2.encoder\n",
      "wav2vec2.encoder.pos_conv_embed\n",
      "wav2vec2.encoder.pos_conv_embed.conv\n",
      "wav2vec2.encoder.pos_conv_embed.conv.parametrizations\n",
      "wav2vec2.encoder.pos_conv_embed.conv.parametrizations.weight\n",
      "wav2vec2.encoder.pos_conv_embed.conv.parametrizations.weight.0\n",
      "wav2vec2.encoder.pos_conv_embed.padding\n",
      "wav2vec2.encoder.pos_conv_embed.activation\n",
      "wav2vec2.encoder.layer_norm\n",
      "wav2vec2.encoder.dropout\n",
      "wav2vec2.encoder.layers\n",
      "wav2vec2.encoder.layers.0\n",
      "wav2vec2.encoder.layers.0.attention\n",
      "wav2vec2.encoder.layers.0.attention.k_proj\n",
      "wav2vec2.encoder.layers.0.attention.v_proj\n",
      "wav2vec2.encoder.layers.0.attention.q_proj\n",
      "wav2vec2.encoder.layers.0.attention.out_proj\n",
      "wav2vec2.encoder.layers.0.dropout\n",
      "wav2vec2.encoder.layers.0.layer_norm\n",
      "wav2vec2.encoder.layers.0.feed_forward\n",
      "wav2vec2.encoder.layers.0.feed_forward.intermediate_dropout\n",
      "wav2vec2.encoder.layers.0.feed_forward.intermediate_dense\n",
      "wav2vec2.encoder.layers.0.feed_forward.intermediate_act_fn\n",
      "wav2vec2.encoder.layers.0.feed_forward.output_dense\n",
      "wav2vec2.encoder.layers.0.feed_forward.output_dropout\n",
      "wav2vec2.encoder.layers.0.final_layer_norm\n",
      "wav2vec2.encoder.layers.1\n",
      "wav2vec2.encoder.layers.1.attention\n",
      "wav2vec2.encoder.layers.1.attention.k_proj\n",
      "wav2vec2.encoder.layers.1.attention.v_proj\n",
      "wav2vec2.encoder.layers.1.attention.q_proj\n",
      "wav2vec2.encoder.layers.1.attention.out_proj\n",
      "wav2vec2.encoder.layers.1.dropout\n",
      "wav2vec2.encoder.layers.1.layer_norm\n",
      "wav2vec2.encoder.layers.1.feed_forward\n",
      "wav2vec2.encoder.layers.1.feed_forward.intermediate_dropout\n",
      "wav2vec2.encoder.layers.1.feed_forward.intermediate_dense\n",
      "wav2vec2.encoder.layers.1.feed_forward.intermediate_act_fn\n",
      "wav2vec2.encoder.layers.1.feed_forward.output_dense\n",
      "wav2vec2.encoder.layers.1.feed_forward.output_dropout\n",
      "wav2vec2.encoder.layers.1.final_layer_norm\n",
      "wav2vec2.encoder.layers.2\n",
      "wav2vec2.encoder.layers.2.attention\n",
      "wav2vec2.encoder.layers.2.attention.k_proj\n",
      "wav2vec2.encoder.layers.2.attention.v_proj\n",
      "wav2vec2.encoder.layers.2.attention.q_proj\n",
      "wav2vec2.encoder.layers.2.attention.out_proj\n",
      "wav2vec2.encoder.layers.2.dropout\n",
      "wav2vec2.encoder.layers.2.layer_norm\n",
      "wav2vec2.encoder.layers.2.feed_forward\n",
      "wav2vec2.encoder.layers.2.feed_forward.intermediate_dropout\n",
      "wav2vec2.encoder.layers.2.feed_forward.intermediate_dense\n",
      "wav2vec2.encoder.layers.2.feed_forward.intermediate_act_fn\n",
      "wav2vec2.encoder.layers.2.feed_forward.output_dense\n",
      "wav2vec2.encoder.layers.2.feed_forward.output_dropout\n",
      "wav2vec2.encoder.layers.2.final_layer_norm\n",
      "wav2vec2.encoder.layers.3\n",
      "wav2vec2.encoder.layers.3.attention\n",
      "wav2vec2.encoder.layers.3.attention.k_proj\n",
      "wav2vec2.encoder.layers.3.attention.v_proj\n",
      "wav2vec2.encoder.layers.3.attention.q_proj\n",
      "wav2vec2.encoder.layers.3.attention.out_proj\n",
      "wav2vec2.encoder.layers.3.dropout\n",
      "wav2vec2.encoder.layers.3.layer_norm\n",
      "wav2vec2.encoder.layers.3.feed_forward\n",
      "wav2vec2.encoder.layers.3.feed_forward.intermediate_dropout\n",
      "wav2vec2.encoder.layers.3.feed_forward.intermediate_dense\n",
      "wav2vec2.encoder.layers.3.feed_forward.intermediate_act_fn\n",
      "wav2vec2.encoder.layers.3.feed_forward.output_dense\n",
      "wav2vec2.encoder.layers.3.feed_forward.output_dropout\n",
      "wav2vec2.encoder.layers.3.final_layer_norm\n",
      "wav2vec2.encoder.layers.4\n",
      "wav2vec2.encoder.layers.4.attention\n",
      "wav2vec2.encoder.layers.4.attention.k_proj\n",
      "wav2vec2.encoder.layers.4.attention.v_proj\n",
      "wav2vec2.encoder.layers.4.attention.q_proj\n",
      "wav2vec2.encoder.layers.4.attention.out_proj\n",
      "wav2vec2.encoder.layers.4.dropout\n",
      "wav2vec2.encoder.layers.4.layer_norm\n",
      "wav2vec2.encoder.layers.4.feed_forward\n",
      "wav2vec2.encoder.layers.4.feed_forward.intermediate_dropout\n",
      "wav2vec2.encoder.layers.4.feed_forward.intermediate_dense\n",
      "wav2vec2.encoder.layers.4.feed_forward.intermediate_act_fn\n",
      "wav2vec2.encoder.layers.4.feed_forward.output_dense\n",
      "wav2vec2.encoder.layers.4.feed_forward.output_dropout\n",
      "wav2vec2.encoder.layers.4.final_layer_norm\n",
      "wav2vec2.encoder.layers.5\n",
      "wav2vec2.encoder.layers.5.attention\n",
      "wav2vec2.encoder.layers.5.attention.k_proj\n",
      "wav2vec2.encoder.layers.5.attention.v_proj\n",
      "wav2vec2.encoder.layers.5.attention.q_proj\n",
      "wav2vec2.encoder.layers.5.attention.out_proj\n",
      "wav2vec2.encoder.layers.5.dropout\n",
      "wav2vec2.encoder.layers.5.layer_norm\n",
      "wav2vec2.encoder.layers.5.feed_forward\n",
      "wav2vec2.encoder.layers.5.feed_forward.intermediate_dropout\n",
      "wav2vec2.encoder.layers.5.feed_forward.intermediate_dense\n",
      "wav2vec2.encoder.layers.5.feed_forward.intermediate_act_fn\n",
      "wav2vec2.encoder.layers.5.feed_forward.output_dense\n",
      "wav2vec2.encoder.layers.5.feed_forward.output_dropout\n",
      "wav2vec2.encoder.layers.5.final_layer_norm\n",
      "wav2vec2.encoder.layers.6\n",
      "wav2vec2.encoder.layers.6.attention\n",
      "wav2vec2.encoder.layers.6.attention.k_proj\n",
      "wav2vec2.encoder.layers.6.attention.v_proj\n",
      "wav2vec2.encoder.layers.6.attention.q_proj\n",
      "wav2vec2.encoder.layers.6.attention.out_proj\n",
      "wav2vec2.encoder.layers.6.dropout\n",
      "wav2vec2.encoder.layers.6.layer_norm\n",
      "wav2vec2.encoder.layers.6.feed_forward\n",
      "wav2vec2.encoder.layers.6.feed_forward.intermediate_dropout\n",
      "wav2vec2.encoder.layers.6.feed_forward.intermediate_dense\n",
      "wav2vec2.encoder.layers.6.feed_forward.intermediate_act_fn\n",
      "wav2vec2.encoder.layers.6.feed_forward.output_dense\n",
      "wav2vec2.encoder.layers.6.feed_forward.output_dropout\n",
      "wav2vec2.encoder.layers.6.final_layer_norm\n",
      "wav2vec2.encoder.layers.7\n",
      "wav2vec2.encoder.layers.7.attention\n",
      "wav2vec2.encoder.layers.7.attention.k_proj\n",
      "wav2vec2.encoder.layers.7.attention.v_proj\n",
      "wav2vec2.encoder.layers.7.attention.q_proj\n",
      "wav2vec2.encoder.layers.7.attention.out_proj\n",
      "wav2vec2.encoder.layers.7.dropout\n",
      "wav2vec2.encoder.layers.7.layer_norm\n",
      "wav2vec2.encoder.layers.7.feed_forward\n",
      "wav2vec2.encoder.layers.7.feed_forward.intermediate_dropout\n",
      "wav2vec2.encoder.layers.7.feed_forward.intermediate_dense\n",
      "wav2vec2.encoder.layers.7.feed_forward.intermediate_act_fn\n",
      "wav2vec2.encoder.layers.7.feed_forward.output_dense\n",
      "wav2vec2.encoder.layers.7.feed_forward.output_dropout\n",
      "wav2vec2.encoder.layers.7.final_layer_norm\n",
      "wav2vec2.encoder.layers.8\n",
      "wav2vec2.encoder.layers.8.attention\n",
      "wav2vec2.encoder.layers.8.attention.k_proj\n",
      "wav2vec2.encoder.layers.8.attention.v_proj\n",
      "wav2vec2.encoder.layers.8.attention.q_proj\n",
      "wav2vec2.encoder.layers.8.attention.out_proj\n",
      "wav2vec2.encoder.layers.8.dropout\n",
      "wav2vec2.encoder.layers.8.layer_norm\n",
      "wav2vec2.encoder.layers.8.feed_forward\n",
      "wav2vec2.encoder.layers.8.feed_forward.intermediate_dropout\n",
      "wav2vec2.encoder.layers.8.feed_forward.intermediate_dense\n",
      "wav2vec2.encoder.layers.8.feed_forward.intermediate_act_fn\n",
      "wav2vec2.encoder.layers.8.feed_forward.output_dense\n",
      "wav2vec2.encoder.layers.8.feed_forward.output_dropout\n",
      "wav2vec2.encoder.layers.8.final_layer_norm\n",
      "wav2vec2.encoder.layers.9\n",
      "wav2vec2.encoder.layers.9.attention\n",
      "wav2vec2.encoder.layers.9.attention.k_proj\n",
      "wav2vec2.encoder.layers.9.attention.v_proj\n",
      "wav2vec2.encoder.layers.9.attention.q_proj\n",
      "wav2vec2.encoder.layers.9.attention.out_proj\n",
      "wav2vec2.encoder.layers.9.dropout\n",
      "wav2vec2.encoder.layers.9.layer_norm\n",
      "wav2vec2.encoder.layers.9.feed_forward\n",
      "wav2vec2.encoder.layers.9.feed_forward.intermediate_dropout\n",
      "wav2vec2.encoder.layers.9.feed_forward.intermediate_dense\n",
      "wav2vec2.encoder.layers.9.feed_forward.intermediate_act_fn\n",
      "wav2vec2.encoder.layers.9.feed_forward.output_dense\n",
      "wav2vec2.encoder.layers.9.feed_forward.output_dropout\n",
      "wav2vec2.encoder.layers.9.final_layer_norm\n",
      "wav2vec2.encoder.layers.10\n",
      "wav2vec2.encoder.layers.10.attention\n",
      "wav2vec2.encoder.layers.10.attention.k_proj\n",
      "wav2vec2.encoder.layers.10.attention.v_proj\n",
      "wav2vec2.encoder.layers.10.attention.q_proj\n",
      "wav2vec2.encoder.layers.10.attention.out_proj\n",
      "wav2vec2.encoder.layers.10.dropout\n",
      "wav2vec2.encoder.layers.10.layer_norm\n",
      "wav2vec2.encoder.layers.10.feed_forward\n",
      "wav2vec2.encoder.layers.10.feed_forward.intermediate_dropout\n",
      "wav2vec2.encoder.layers.10.feed_forward.intermediate_dense\n",
      "wav2vec2.encoder.layers.10.feed_forward.intermediate_act_fn\n",
      "wav2vec2.encoder.layers.10.feed_forward.output_dense\n",
      "wav2vec2.encoder.layers.10.feed_forward.output_dropout\n",
      "wav2vec2.encoder.layers.10.final_layer_norm\n",
      "wav2vec2.encoder.layers.11\n",
      "wav2vec2.encoder.layers.11.attention\n",
      "wav2vec2.encoder.layers.11.attention.k_proj\n",
      "wav2vec2.encoder.layers.11.attention.v_proj\n",
      "wav2vec2.encoder.layers.11.attention.q_proj\n",
      "wav2vec2.encoder.layers.11.attention.out_proj\n",
      "wav2vec2.encoder.layers.11.dropout\n",
      "wav2vec2.encoder.layers.11.layer_norm\n",
      "wav2vec2.encoder.layers.11.feed_forward\n",
      "wav2vec2.encoder.layers.11.feed_forward.intermediate_dropout\n",
      "wav2vec2.encoder.layers.11.feed_forward.intermediate_dense\n",
      "wav2vec2.encoder.layers.11.feed_forward.intermediate_act_fn\n",
      "wav2vec2.encoder.layers.11.feed_forward.output_dense\n",
      "wav2vec2.encoder.layers.11.feed_forward.output_dropout\n",
      "wav2vec2.encoder.layers.11.final_layer_norm\n",
      "projector\n",
      "classifier\n"
     ]
    }
   ],
   "source": [
    "for name, module in base_model.named_modules():\n",
    "    print(name)\n"
   ]
  },
  {
   "cell_type": "code",
   "execution_count": 86,
   "metadata": {},
   "outputs": [],
   "source": [
    "target_modules = [\n",
    "    \"wav2vec2.encoder.layers.0.attention.k_proj\",\n",
    "    \"wav2vec2.encoder.layers.0.attention.q_proj\",\n",
    "    \"wav2vec2.encoder.layers.0.attention.v_proj\",\n",
    "    \"wav2vec2.encoder.layers.0.attention.out_proj\",\n",
    "    \"wav2vec2.encoder.layers.0.feed_forward.intermediate_dense\",\n",
    "    \"wav2vec2.encoder.layers.0.feed_forward.output_dense\",\n",
    "    \"wav2vec2.encoder.layers.1.attention.k_proj\",\n",
    "    \"wav2vec2.encoder.layers.1.attention.q_proj\",\n",
    "    \"wav2vec2.encoder.layers.1.attention.v_proj\",\n",
    "    \"wav2vec2.encoder.layers.1.attention.out_proj\",\n",
    "    \"wav2vec2.encoder.layers.1.feed_forward.intermediate_dense\",\n",
    "    \"wav2vec2.encoder.layers.1.feed_forward.output_dense\",\n",
    "    \"wav2vec2.encoder.layers.2.attention.k_proj\",\n",
    "    \"wav2vec2.encoder.layers.2.attention.q_proj\",\n",
    "    \"wav2vec2.encoder.layers.2.attention.v_proj\",\n",
    "    \"wav2vec2.encoder.layers.2.attention.out_proj\",\n",
    "    \"wav2vec2.encoder.layers.2.feed_forward.intermediate_dense\",\n",
    "    \"wav2vec2.encoder.layers.2.feed_forward.output_dense\",\n",
    "    \"wav2vec2.encoder.layers.3.attention.k_proj\",\n",
    "    \"wav2vec2.encoder.layers.3.attention.q_proj\",\n",
    "    \"wav2vec2.encoder.layers.3.attention.v_proj\",\n",
    "    \"wav2vec2.encoder.layers.3.attention.out_proj\",\n",
    "    \"wav2vec2.encoder.layers.3.feed_forward.intermediate_dense\",\n",
    "    \"wav2vec2.encoder.layers.3.feed_forward.output_dense\",\n",
    "    \"wav2vec2.encoder.layers.4.attention.k_proj\",\n",
    "    \"wav2vec2.encoder.layers.4.attention.q_proj\",\n",
    "    \"wav2vec2.encoder.layers.4.attention.v_proj\",\n",
    "    \"wav2vec2.encoder.layers.4.attention.out_proj\",\n",
    "    \"wav2vec2.encoder.layers.4.feed_forward.intermediate_dense\",\n",
    "    \"wav2vec2.encoder.layers.4.feed_forward.output_dense\",\n",
    "    \"wav2vec2.encoder.layers.5.attention.k_proj\",\n",
    "    \"wav2vec2.encoder.layers.5.attention.q_proj\",\n",
    "    \"wav2vec2.encoder.layers.5.attention.v_proj\",\n",
    "    \"wav2vec2.encoder.layers.5.attention.out_proj\",\n",
    "    \"wav2vec2.encoder.layers.5.feed_forward.intermediate_dense\",\n",
    "    \"wav2vec2.encoder.layers.5.feed_forward.output_dense\",\n",
    "    \"wav2vec2.encoder.layers.6.attention.k_proj\",\n",
    "    \"wav2vec2.encoder.layers.6.attention.q_proj\",\n",
    "    \"wav2vec2.encoder.layers.6.attention.v_proj\",\n",
    "    \"wav2vec2.encoder.layers.6.attention.out_proj\",\n",
    "    \"wav2vec2.encoder.layers.6.feed_forward.intermediate_dense\",\n",
    "    \"wav2vec2.encoder.layers.6.feed_forward.output_dense\",\n",
    "    \"wav2vec2.encoder.layers.7.attention.k_proj\",\n",
    "    \"wav2vec2.encoder.layers.7.attention.q_proj\",\n",
    "    \"wav2vec2.encoder.layers.7.attention.v_proj\",\n",
    "    \"wav2vec2.encoder.layers.7.attention.out_proj\",\n",
    "    \"wav2vec2.encoder.layers.7.feed_forward.intermediate_dense\",\n",
    "    \"wav2vec2.encoder.layers.7.feed_forward.output_dense\",\n",
    "    \"wav2vec2.encoder.layers.8.attention.k_proj\",\n",
    "    \"wav2vec2.encoder.layers.8.attention.q_proj\",\n",
    "    \"wav2vec2.encoder.layers.8.attention.v_proj\",\n",
    "    \"wav2vec2.encoder.layers.8.attention.out_proj\",\n",
    "    \"wav2vec2.encoder.layers.8.feed_forward.intermediate_dense\",\n",
    "    \"wav2vec2.encoder.layers.8.feed_forward.output_dense\",\n",
    "    \"wav2vec2.encoder.layers.9.attention.k_proj\",\n",
    "    \"wav2vec2.encoder.layers.9.attention.q_proj\",\n",
    "    \"wav2vec2.encoder.layers.9.attention.v_proj\",\n",
    "    \"wav2vec2.encoder.layers.9.attention.out_proj\",\n",
    "    \"wav2vec2.encoder.layers.9.feed_forward.intermediate_dense\",\n",
    "    \"wav2vec2.encoder.layers.9.feed_forward.output_dense\",\n",
    "    \"wav2vec2.encoder.layers.10.attention.k_proj\",\n",
    "    \"wav2vec2.encoder.layers.10.attention.q_proj\",\n",
    "    \"wav2vec2.encoder.layers.10.attention.v_proj\",\n",
    "    \"wav2vec2.encoder.layers.10.attention.out_proj\",\n",
    "    \"wav2vec2.encoder.layers.10.feed_forward.intermediate_dense\",\n",
    "    \"wav2vec2.encoder.layers.10.feed_forward.output_dense\",\n",
    "    \"wav2vec2.encoder.layers.11.attention.k_proj\",\n",
    "    \"wav2vec2.encoder.layers.11.attention.q_proj\",\n",
    "    \"wav2vec2.encoder.layers.11.attention.v_proj\",\n",
    "    \"wav2vec2.encoder.layers.11.attention.out_proj\",\n",
    "    \"wav2vec2.encoder.layers.11.feed_forward.intermediate_dense\",\n",
    "    \"wav2vec2.encoder.layers.11.feed_forward.output_dense\",\n",
    "]\n"
   ]
  },
  {
   "cell_type": "code",
   "execution_count": 119,
   "metadata": {},
   "outputs": [
    {
     "name": "stderr",
     "output_type": "stream",
     "text": [
      "/Users/guneeshvats/miniconda3/envs/adalat_v3/lib/python3.8/site-packages/huggingface_hub/file_download.py:1150: FutureWarning: `resume_download` is deprecated and will be removed in version 1.0.0. Downloads always resume when possible. If you want to force a new download, use `force_download=True`.\n",
      "  warnings.warn(\n",
      "Some weights of Wav2Vec2ForSequenceClassification were not initialized from the model checkpoint at facebook/wav2vec2-base-960h and are newly initialized: ['classifier.bias', 'classifier.weight', 'projector.bias', 'projector.weight', 'wav2vec2.encoder.pos_conv_embed.conv.parametrizations.weight.original0', 'wav2vec2.encoder.pos_conv_embed.conv.parametrizations.weight.original1', 'wav2vec2.masked_spec_embed']\n",
      "You should probably TRAIN this model on a down-stream task to be able to use it for predictions and inference.\n"
     ]
    },
    {
     "name": "stdout",
     "output_type": "stream",
     "text": [
      "trainable params: 51,722 || all params: 94,622,868 || trainable%: 0.0547\n"
     ]
    },
    {
     "name": "stderr",
     "output_type": "stream",
     "text": [
      "Some weights of Wav2Vec2ForSequenceClassification were not initialized from the model checkpoint at facebook/wav2vec2-base-960h and are newly initialized: ['classifier.bias', 'classifier.weight', 'projector.bias', 'projector.weight', 'wav2vec2.encoder.pos_conv_embed.conv.parametrizations.weight.original0', 'wav2vec2.encoder.pos_conv_embed.conv.parametrizations.weight.original1', 'wav2vec2.masked_spec_embed']\n",
      "You should probably TRAIN this model on a down-stream task to be able to use it for predictions and inference.\n",
      "/Users/guneeshvats/miniconda3/envs/adalat_v3/lib/python3.8/site-packages/transformers/optimization.py:429: FutureWarning: This implementation of AdamW is deprecated and will be removed in a future version. Use the PyTorch implementation torch.optim.AdamW instead, or set `no_deprecation_warning=True` to disable this warning\n",
      "  warnings.warn(\n"
     ]
    },
    {
     "name": "stdout",
     "output_type": "stream",
     "text": [
      "Epoch 1/1\n"
     ]
    },
    {
     "name": "stderr",
     "output_type": "stream",
     "text": [
      "Training Epoch 1: 100%|██████████| 874/874 [1:13:58<00:00,  5.08s/batch, Batch Loss=2.09]   \n"
     ]
    },
    {
     "name": "stdout",
     "output_type": "stream",
     "text": [
      "Training Loss: 2.1501\n",
      "Validation Loss: 2.0672\n"
     ]
    },
    {
     "name": "stderr",
     "output_type": "stream",
     "text": [
      "/var/folders/vx/9cf9tngn6qs563bg7n_qlt5m0000gn/T/ipykernel_12195/571521404.py:114: FutureWarning: You are using `torch.load` with `weights_only=False` (the current default value), which uses the default pickle module implicitly. It is possible to construct malicious pickle data which will execute arbitrary code during unpickling (See https://github.com/pytorch/pytorch/blob/main/SECURITY.md#untrusted-models for more details). In a future release, the default value for `weights_only` will be flipped to `True`. This limits the functions that could be executed during unpickling. Arbitrary objects will no longer be allowed to be loaded via this mode unless they are explicitly allowlisted by the user via `torch.serialization.add_safe_globals`. We recommend you start setting `weights_only=True` for any use case where you don't have full control of the loaded file. Please open an issue on GitHub for any issues related to this experimental feature.\n",
      "  model.load_state_dict(torch.load(\"best_model.pth\"))\n"
     ]
    },
    {
     "data": {
      "image/png": "[encoded data removed]",
      "text/plain": [
       "<Figure size 1000x600 with 1 Axes>"
      ]
     },
     "metadata": {},
     "output_type": "display_data"
    }
   ],
   "source": [
    "# Check GPU availability\n",
    "device = torch.device(\"cuda\" if torch.cuda.is_available() else \"cpu\")\n",
    "\n",
    "# Load model\n",
    "model = Wav2Vec2ForSequenceClassification.from_pretrained(\"facebook/wav2vec2-base-960h\", num_labels=10)\n",
    "model.to(device)\n",
    "\n",
    "# LoRA Configuration\n",
    "from peft import LoraConfig, get_peft_model, TaskType\n",
    "\n",
    "target_modules = [\n",
    "    \"wav2vec2.encoder.layers.0.attention.k_proj\",\n",
    "    \"wav2vec2.encoder.layers.0.attention.q_proj\",\n",
    "    \"wav2vec2.encoder.layers.0.attention.v_proj\",\n",
    "    \"wav2vec2.encoder.layers.0.attention.out_proj\",\n",
    "]\n",
    "\n",
    "config = LoraConfig(\n",
    "    task_type=TaskType.SEQ_CLS,\n",
    "    r=8,\n",
    "    lora_alpha=32,\n",
    "    lora_dropout=0.1,\n",
    "    target_modules=target_modules,\n",
    ")\n",
    "\n",
    "model = get_peft_model(base_model, config)\n",
    "model.to(device)\n",
    "# Verifying trainable parameters\n",
    "model.print_trainable_parameters() \n",
    "\n",
    "model = Wav2Vec2ForSequenceClassification.from_pretrained(\"facebook/wav2vec2-base-960h\", num_labels=10)\n",
    "model.to(device)\n",
    "\n",
    "# Optimizer\n",
    "optimizer = AdamW(model.parameters(), lr=5e-5)\n",
    "\n",
    "# Early Stopping\n",
    "early_stopping_patience = 3\n",
    "best_loss = float('inf')\n",
    "patience_counter = 0\n",
    "\n",
    "# Lists to store training and validation loss\n",
    "train_losses = []\n",
    "val_losses = []\n",
    "\n",
    "# Halving Learning rate after every epoch   (can change the step size)\n",
    "# scheduler = StepLR(optimizer, step_size=1, gamma=0.5)\n",
    "scheduler = ReduceLROnPlateau(optimizer, mode='min', factor=0.1, patience=2, verbose=True)\n",
    "\n",
    "# Training loop with early stopping\n",
    "num_epochs = 1  # Can Increase epochs for meaningful results\n",
    "val_loader = test_loader  # Rename for clarity\n",
    "\n",
    "for epoch in range(num_epochs):\n",
    "    model.train()\n",
    "    epoch_loss = 0.0\n",
    "    print(f\"Epoch {epoch + 1}/{num_epochs}\")\n",
    "\n",
    "    with tqdm(train_loader, desc=f\"Training Epoch {epoch + 1}\", unit=\"batch\") as pbar:\n",
    "        for batch in pbar:\n",
    "            inputs = {\n",
    "                \"input_values\": batch[\"input_values\"].to(device),\n",
    "                \"labels\": batch[\"labels\"].to(device),\n",
    "            }\n",
    "            outputs = model(\n",
    "                input_values=inputs[\"input_values\"],\n",
    "                labels=inputs[\"labels\"],\n",
    "            )\n",
    "            loss = outputs.loss\n",
    "            loss.backward()\n",
    "            optimizer.step()\n",
    "            optimizer.zero_grad()\n",
    "            epoch_loss += loss.item()\n",
    "            pbar.set_postfix({\"Batch Loss\": loss.item()})\n",
    "\n",
    "    train_losses.append(epoch_loss / len(train_loader))\n",
    "    print(f\"Training Loss: {train_losses[-1]:.4f}\")\n",
    "\n",
    "    # Validation loop\n",
    "    model.eval()\n",
    "    val_loss = 0.0\n",
    "    val_preds, val_labels = [], []\n",
    "    with torch.no_grad():\n",
    "        for batch in val_loader:\n",
    "            inputs = {\n",
    "                \"input_values\": batch[\"input_values\"].to(device),\n",
    "                \"labels\": batch[\"labels\"].to(device),\n",
    "            }\n",
    "            outputs = model(\n",
    "                input_values=inputs[\"input_values\"],\n",
    "                labels=inputs[\"labels\"],\n",
    "            )\n",
    "            val_loss += outputs.loss.item()\n",
    "            val_preds.extend(torch.argmax(outputs.logits, dim=1).cpu().numpy())\n",
    "            val_labels.extend(inputs[\"labels\"].cpu().numpy())\n",
    "\n",
    "    val_loss /= len(val_loader)\n",
    "    val_losses.append(val_loss)\n",
    "    print(f\"Validation Loss: {val_loss:.4f}\")\n",
    "    scheduler.step(val_loss)\n",
    "\n",
    "    # Early stopping\n",
    "    if val_loss < best_loss:\n",
    "        best_loss = val_loss\n",
    "        patience_counter = 0\n",
    "        torch.save(model.state_dict(), \"best_model.pth\")\n",
    "    else:\n",
    "        patience_counter += 1\n",
    "        if patience_counter >= early_stopping_patience:\n",
    "            print(\"Early stopping triggered.\")\n",
    "            break\n",
    "\n",
    "# Load the best model\n",
    "model.load_state_dict(torch.load(\"best_model.pth\"))\n",
    "\n",
    "# Plot Training and Validation Loss\n",
    "plt.figure(figsize=(10, 6))\n",
    "plt.plot(train_losses, label=\"Training Loss\")\n",
    "plt.plot(val_losses, label=\"Validation Loss\")\n",
    "plt.xlabel(\"Epochs\")\n",
    "plt.ylabel(\"Loss\")\n",
    "plt.title(\"Training and Validation Loss\")\n",
    "plt.legend()\n",
    "plt.show()\n"
   ]
  },
  {
   "cell_type": "markdown",
   "metadata": {},
   "source": [
    "### Debugging"
   ]
  },
  {
   "cell_type": "code",
   "execution_count": 100,
   "metadata": {},
   "outputs": [
    {
     "name": "stdout",
     "output_type": "stream",
     "text": [
      "Input Values Shape: torch.Size([8, 64000])\n",
      "Labels Shape: torch.Size([8])\n",
      "None\n",
      "trainable params: 1,329,674 || all params: 95,900,820 || trainable%: 1.3865\n",
      "odict_keys(['base_model.model.wav2vec2.masked_spec_embed', 'base_model.model.wav2vec2.feature_extractor.conv_layers.0.conv.weight', 'base_model.model.wav2vec2.feature_extractor.conv_layers.0.layer_norm.weight', 'base_model.model.wav2vec2.feature_extractor.conv_layers.0.layer_norm.bias', 'base_model.model.wav2vec2.feature_extractor.conv_layers.1.conv.weight', 'base_model.model.wav2vec2.feature_extractor.conv_layers.2.conv.weight', 'base_model.model.wav2vec2.feature_extractor.conv_layers.3.conv.weight', 'base_model.model.wav2vec2.feature_extractor.conv_layers.4.conv.weight', 'base_model.model.wav2vec2.feature_extractor.conv_layers.5.conv.weight', 'base_model.model.wav2vec2.feature_extractor.conv_layers.6.conv.weight', 'base_model.model.wav2vec2.feature_projection.layer_norm.weight', 'base_model.model.wav2vec2.feature_projection.layer_norm.bias', 'base_model.model.wav2vec2.feature_projection.projection.weight', 'base_model.model.wav2vec2.feature_projection.projection.bias', 'base_model.model.wav2vec2.encoder.pos_conv_embed.conv.bias', 'base_model.model.wav2vec2.encoder.pos_conv_embed.conv.parametrizations.weight.original0', 'base_model.model.wav2vec2.encoder.pos_conv_embed.conv.parametrizations.weight.original1', 'base_model.model.wav2vec2.encoder.layer_norm.weight', 'base_model.model.wav2vec2.encoder.layer_norm.bias', 'base_model.model.wav2vec2.encoder.layers.0.attention.k_proj.base_layer.weight', 'base_model.model.wav2vec2.encoder.layers.0.attention.k_proj.base_layer.bias', 'base_model.model.wav2vec2.encoder.layers.0.attention.k_proj.lora_A.default.weight', 'base_model.model.wav2vec2.encoder.layers.0.attention.k_proj.lora_B.default.weight', 'base_model.model.wav2vec2.encoder.layers.0.attention.v_proj.base_layer.weight', 'base_model.model.wav2vec2.encoder.layers.0.attention.v_proj.base_layer.bias', 'base_model.model.wav2vec2.encoder.layers.0.attention.v_proj.lora_A.default.weight', 'base_model.model.wav2vec2.encoder.layers.0.attention.v_proj.lora_B.default.weight', 'base_model.model.wav2vec2.encoder.layers.0.attention.q_proj.base_layer.weight', 'base_model.model.wav2vec2.encoder.layers.0.attention.q_proj.base_layer.bias', 'base_model.model.wav2vec2.encoder.layers.0.attention.q_proj.lora_A.default.weight', 'base_model.model.wav2vec2.encoder.layers.0.attention.q_proj.lora_B.default.weight', 'base_model.model.wav2vec2.encoder.layers.0.attention.out_proj.base_layer.weight', 'base_model.model.wav2vec2.encoder.layers.0.attention.out_proj.base_layer.bias', 'base_model.model.wav2vec2.encoder.layers.0.attention.out_proj.lora_A.default.weight', 'base_model.model.wav2vec2.encoder.layers.0.attention.out_proj.lora_B.default.weight', 'base_model.model.wav2vec2.encoder.layers.0.layer_norm.weight', 'base_model.model.wav2vec2.encoder.layers.0.layer_norm.bias', 'base_model.model.wav2vec2.encoder.layers.0.feed_forward.intermediate_dense.base_layer.weight', 'base_model.model.wav2vec2.encoder.layers.0.feed_forward.intermediate_dense.base_layer.bias', 'base_model.model.wav2vec2.encoder.layers.0.feed_forward.intermediate_dense.lora_A.default.weight', 'base_model.model.wav2vec2.encoder.layers.0.feed_forward.intermediate_dense.lora_B.default.weight', 'base_model.model.wav2vec2.encoder.layers.0.feed_forward.output_dense.base_layer.weight', 'base_model.model.wav2vec2.encoder.layers.0.feed_forward.output_dense.base_layer.bias', 'base_model.model.wav2vec2.encoder.layers.0.feed_forward.output_dense.lora_A.default.weight', 'base_model.model.wav2vec2.encoder.layers.0.feed_forward.output_dense.lora_B.default.weight', 'base_model.model.wav2vec2.encoder.layers.0.final_layer_norm.weight', 'base_model.model.wav2vec2.encoder.layers.0.final_layer_norm.bias', 'base_model.model.wav2vec2.encoder.layers.1.attention.k_proj.base_layer.weight', 'base_model.model.wav2vec2.encoder.layers.1.attention.k_proj.base_layer.bias', 'base_model.model.wav2vec2.encoder.layers.1.attention.k_proj.lora_A.default.weight', 'base_model.model.wav2vec2.encoder.layers.1.attention.k_proj.lora_B.default.weight', 'base_model.model.wav2vec2.encoder.layers.1.attention.v_proj.base_layer.weight', 'base_model.model.wav2vec2.encoder.layers.1.attention.v_proj.base_layer.bias', 'base_model.model.wav2vec2.encoder.layers.1.attention.v_proj.lora_A.default.weight', 'base_model.model.wav2vec2.encoder.layers.1.attention.v_proj.lora_B.default.weight', 'base_model.model.wav2vec2.encoder.layers.1.attention.q_proj.base_layer.weight', 'base_model.model.wav2vec2.encoder.layers.1.attention.q_proj.base_layer.bias', 'base_model.model.wav2vec2.encoder.layers.1.attention.q_proj.lora_A.default.weight', 'base_model.model.wav2vec2.encoder.layers.1.attention.q_proj.lora_B.default.weight', 'base_model.model.wav2vec2.encoder.layers.1.attention.out_proj.base_layer.weight', 'base_model.model.wav2vec2.encoder.layers.1.attention.out_proj.base_layer.bias', 'base_model.model.wav2vec2.encoder.layers.1.attention.out_proj.lora_A.default.weight', 'base_model.model.wav2vec2.encoder.layers.1.attention.out_proj.lora_B.default.weight', 'base_model.model.wav2vec2.encoder.layers.1.layer_norm.weight', 'base_model.model.wav2vec2.encoder.layers.1.layer_norm.bias', 'base_model.model.wav2vec2.encoder.layers.1.feed_forward.intermediate_dense.base_layer.weight', 'base_model.model.wav2vec2.encoder.layers.1.feed_forward.intermediate_dense.base_layer.bias', 'base_model.model.wav2vec2.encoder.layers.1.feed_forward.intermediate_dense.lora_A.default.weight', 'base_model.model.wav2vec2.encoder.layers.1.feed_forward.intermediate_dense.lora_B.default.weight', 'base_model.model.wav2vec2.encoder.layers.1.feed_forward.output_dense.base_layer.weight', 'base_model.model.wav2vec2.encoder.layers.1.feed_forward.output_dense.base_layer.bias', 'base_model.model.wav2vec2.encoder.layers.1.feed_forward.output_dense.lora_A.default.weight', 'base_model.model.wav2vec2.encoder.layers.1.feed_forward.output_dense.lora_B.default.weight', 'base_model.model.wav2vec2.encoder.layers.1.final_layer_norm.weight', 'base_model.model.wav2vec2.encoder.layers.1.final_layer_norm.bias', 'base_model.model.wav2vec2.encoder.layers.2.attention.k_proj.base_layer.weight', 'base_model.model.wav2vec2.encoder.layers.2.attention.k_proj.base_layer.bias', 'base_model.model.wav2vec2.encoder.layers.2.attention.k_proj.lora_A.default.weight', 'base_model.model.wav2vec2.encoder.layers.2.attention.k_proj.lora_B.default.weight', 'base_model.model.wav2vec2.encoder.layers.2.attention.v_proj.base_layer.weight', 'base_model.model.wav2vec2.encoder.layers.2.attention.v_proj.base_layer.bias', 'base_model.model.wav2vec2.encoder.layers.2.attention.v_proj.lora_A.default.weight', 'base_model.model.wav2vec2.encoder.layers.2.attention.v_proj.lora_B.default.weight', 'base_model.model.wav2vec2.encoder.layers.2.attention.q_proj.base_layer.weight', 'base_model.model.wav2vec2.encoder.layers.2.attention.q_proj.base_layer.bias', 'base_model.model.wav2vec2.encoder.layers.2.attention.q_proj.lora_A.default.weight', 'base_model.model.wav2vec2.encoder.layers.2.attention.q_proj.lora_B.default.weight', 'base_model.model.wav2vec2.encoder.layers.2.attention.out_proj.base_layer.weight', 'base_model.model.wav2vec2.encoder.layers.2.attention.out_proj.base_layer.bias', 'base_model.model.wav2vec2.encoder.layers.2.attention.out_proj.lora_A.default.weight', 'base_model.model.wav2vec2.encoder.layers.2.attention.out_proj.lora_B.default.weight', 'base_model.model.wav2vec2.encoder.layers.2.layer_norm.weight', 'base_model.model.wav2vec2.encoder.layers.2.layer_norm.bias', 'base_model.model.wav2vec2.encoder.layers.2.feed_forward.intermediate_dense.base_layer.weight', 'base_model.model.wav2vec2.encoder.layers.2.feed_forward.intermediate_dense.base_layer.bias', 'base_model.model.wav2vec2.encoder.layers.2.feed_forward.intermediate_dense.lora_A.default.weight', 'base_model.model.wav2vec2.encoder.layers.2.feed_forward.intermediate_dense.lora_B.default.weight', 'base_model.model.wav2vec2.encoder.layers.2.feed_forward.output_dense.base_layer.weight', 'base_model.model.wav2vec2.encoder.layers.2.feed_forward.output_dense.base_layer.bias', 'base_model.model.wav2vec2.encoder.layers.2.feed_forward.output_dense.lora_A.default.weight', 'base_model.model.wav2vec2.encoder.layers.2.feed_forward.output_dense.lora_B.default.weight', 'base_model.model.wav2vec2.encoder.layers.2.final_layer_norm.weight', 'base_model.model.wav2vec2.encoder.layers.2.final_layer_norm.bias', 'base_model.model.wav2vec2.encoder.layers.3.attention.k_proj.base_layer.weight', 'base_model.model.wav2vec2.encoder.layers.3.attention.k_proj.base_layer.bias', 'base_model.model.wav2vec2.encoder.layers.3.attention.k_proj.lora_A.default.weight', 'base_model.model.wav2vec2.encoder.layers.3.attention.k_proj.lora_B.default.weight', 'base_model.model.wav2vec2.encoder.layers.3.attention.v_proj.base_layer.weight', 'base_model.model.wav2vec2.encoder.layers.3.attention.v_proj.base_layer.bias', 'base_model.model.wav2vec2.encoder.layers.3.attention.v_proj.lora_A.default.weight', 'base_model.model.wav2vec2.encoder.layers.3.attention.v_proj.lora_B.default.weight', 'base_model.model.wav2vec2.encoder.layers.3.attention.q_proj.base_layer.weight', 'base_model.model.wav2vec2.encoder.layers.3.attention.q_proj.base_layer.bias', 'base_model.model.wav2vec2.encoder.layers.3.attention.q_proj.lora_A.default.weight', 'base_model.model.wav2vec2.encoder.layers.3.attention.q_proj.lora_B.default.weight', 'base_model.model.wav2vec2.encoder.layers.3.attention.out_proj.base_layer.weight', 'base_model.model.wav2vec2.encoder.layers.3.attention.out_proj.base_layer.bias', 'base_model.model.wav2vec2.encoder.layers.3.attention.out_proj.lora_A.default.weight', 'base_model.model.wav2vec2.encoder.layers.3.attention.out_proj.lora_B.default.weight', 'base_model.model.wav2vec2.encoder.layers.3.layer_norm.weight', 'base_model.model.wav2vec2.encoder.layers.3.layer_norm.bias', 'base_model.model.wav2vec2.encoder.layers.3.feed_forward.intermediate_dense.base_layer.weight', 'base_model.model.wav2vec2.encoder.layers.3.feed_forward.intermediate_dense.base_layer.bias', 'base_model.model.wav2vec2.encoder.layers.3.feed_forward.intermediate_dense.lora_A.default.weight', 'base_model.model.wav2vec2.encoder.layers.3.feed_forward.intermediate_dense.lora_B.default.weight', 'base_model.model.wav2vec2.encoder.layers.3.feed_forward.output_dense.base_layer.weight', 'base_model.model.wav2vec2.encoder.layers.3.feed_forward.output_dense.base_layer.bias', 'base_model.model.wav2vec2.encoder.layers.3.feed_forward.output_dense.lora_A.default.weight', 'base_model.model.wav2vec2.encoder.layers.3.feed_forward.output_dense.lora_B.default.weight', 'base_model.model.wav2vec2.encoder.layers.3.final_layer_norm.weight', 'base_model.model.wav2vec2.encoder.layers.3.final_layer_norm.bias', 'base_model.model.wav2vec2.encoder.layers.4.attention.k_proj.base_layer.weight', 'base_model.model.wav2vec2.encoder.layers.4.attention.k_proj.base_layer.bias', 'base_model.model.wav2vec2.encoder.layers.4.attention.k_proj.lora_A.default.weight', 'base_model.model.wav2vec2.encoder.layers.4.attention.k_proj.lora_B.default.weight', 'base_model.model.wav2vec2.encoder.layers.4.attention.v_proj.base_layer.weight', 'base_model.model.wav2vec2.encoder.layers.4.attention.v_proj.base_layer.bias', 'base_model.model.wav2vec2.encoder.layers.4.attention.v_proj.lora_A.default.weight', 'base_model.model.wav2vec2.encoder.layers.4.attention.v_proj.lora_B.default.weight', 'base_model.model.wav2vec2.encoder.layers.4.attention.q_proj.base_layer.weight', 'base_model.model.wav2vec2.encoder.layers.4.attention.q_proj.base_layer.bias', 'base_model.model.wav2vec2.encoder.layers.4.attention.q_proj.lora_A.default.weight', 'base_model.model.wav2vec2.encoder.layers.4.attention.q_proj.lora_B.default.weight', 'base_model.model.wav2vec2.encoder.layers.4.attention.out_proj.base_layer.weight', 'base_model.model.wav2vec2.encoder.layers.4.attention.out_proj.base_layer.bias', 'base_model.model.wav2vec2.encoder.layers.4.attention.out_proj.lora_A.default.weight', 'base_model.model.wav2vec2.encoder.layers.4.attention.out_proj.lora_B.default.weight', 'base_model.model.wav2vec2.encoder.layers.4.layer_norm.weight', 'base_model.model.wav2vec2.encoder.layers.4.layer_norm.bias', 'base_model.model.wav2vec2.encoder.layers.4.feed_forward.intermediate_dense.base_layer.weight', 'base_model.model.wav2vec2.encoder.layers.4.feed_forward.intermediate_dense.base_layer.bias', 'base_model.model.wav2vec2.encoder.layers.4.feed_forward.intermediate_dense.lora_A.default.weight', 'base_model.model.wav2vec2.encoder.layers.4.feed_forward.intermediate_dense.lora_B.default.weight', 'base_model.model.wav2vec2.encoder.layers.4.feed_forward.output_dense.base_layer.weight', 'base_model.model.wav2vec2.encoder.layers.4.feed_forward.output_dense.base_layer.bias', 'base_model.model.wav2vec2.encoder.layers.4.feed_forward.output_dense.lora_A.default.weight', 'base_model.model.wav2vec2.encoder.layers.4.feed_forward.output_dense.lora_B.default.weight', 'base_model.model.wav2vec2.encoder.layers.4.final_layer_norm.weight', 'base_model.model.wav2vec2.encoder.layers.4.final_layer_norm.bias', 'base_model.model.wav2vec2.encoder.layers.5.attention.k_proj.base_layer.weight', 'base_model.model.wav2vec2.encoder.layers.5.attention.k_proj.base_layer.bias', 'base_model.model.wav2vec2.encoder.layers.5.attention.k_proj.lora_A.default.weight', 'base_model.model.wav2vec2.encoder.layers.5.attention.k_proj.lora_B.default.weight', 'base_model.model.wav2vec2.encoder.layers.5.attention.v_proj.base_layer.weight', 'base_model.model.wav2vec2.encoder.layers.5.attention.v_proj.base_layer.bias', 'base_model.model.wav2vec2.encoder.layers.5.attention.v_proj.lora_A.default.weight', 'base_model.model.wav2vec2.encoder.layers.5.attention.v_proj.lora_B.default.weight', 'base_model.model.wav2vec2.encoder.layers.5.attention.q_proj.base_layer.weight', 'base_model.model.wav2vec2.encoder.layers.5.attention.q_proj.base_layer.bias', 'base_model.model.wav2vec2.encoder.layers.5.attention.q_proj.lora_A.default.weight', 'base_model.model.wav2vec2.encoder.layers.5.attention.q_proj.lora_B.default.weight', 'base_model.model.wav2vec2.encoder.layers.5.attention.out_proj.base_layer.weight', 'base_model.model.wav2vec2.encoder.layers.5.attention.out_proj.base_layer.bias', 'base_model.model.wav2vec2.encoder.layers.5.attention.out_proj.lora_A.default.weight', 'base_model.model.wav2vec2.encoder.layers.5.attention.out_proj.lora_B.default.weight', 'base_model.model.wav2vec2.encoder.layers.5.layer_norm.weight', 'base_model.model.wav2vec2.encoder.layers.5.layer_norm.bias', 'base_model.model.wav2vec2.encoder.layers.5.feed_forward.intermediate_dense.base_layer.weight', 'base_model.model.wav2vec2.encoder.layers.5.feed_forward.intermediate_dense.base_layer.bias', 'base_model.model.wav2vec2.encoder.layers.5.feed_forward.intermediate_dense.lora_A.default.weight', 'base_model.model.wav2vec2.encoder.layers.5.feed_forward.intermediate_dense.lora_B.default.weight', 'base_model.model.wav2vec2.encoder.layers.5.feed_forward.output_dense.base_layer.weight', 'base_model.model.wav2vec2.encoder.layers.5.feed_forward.output_dense.base_layer.bias', 'base_model.model.wav2vec2.encoder.layers.5.feed_forward.output_dense.lora_A.default.weight', 'base_model.model.wav2vec2.encoder.layers.5.feed_forward.output_dense.lora_B.default.weight', 'base_model.model.wav2vec2.encoder.layers.5.final_layer_norm.weight', 'base_model.model.wav2vec2.encoder.layers.5.final_layer_norm.bias', 'base_model.model.wav2vec2.encoder.layers.6.attention.k_proj.base_layer.weight', 'base_model.model.wav2vec2.encoder.layers.6.attention.k_proj.base_layer.bias', 'base_model.model.wav2vec2.encoder.layers.6.attention.k_proj.lora_A.default.weight', 'base_model.model.wav2vec2.encoder.layers.6.attention.k_proj.lora_B.default.weight', 'base_model.model.wav2vec2.encoder.layers.6.attention.v_proj.base_layer.weight', 'base_model.model.wav2vec2.encoder.layers.6.attention.v_proj.base_layer.bias', 'base_model.model.wav2vec2.encoder.layers.6.attention.v_proj.lora_A.default.weight', 'base_model.model.wav2vec2.encoder.layers.6.attention.v_proj.lora_B.default.weight', 'base_model.model.wav2vec2.encoder.layers.6.attention.q_proj.base_layer.weight', 'base_model.model.wav2vec2.encoder.layers.6.attention.q_proj.base_layer.bias', 'base_model.model.wav2vec2.encoder.layers.6.attention.q_proj.lora_A.default.weight', 'base_model.model.wav2vec2.encoder.layers.6.attention.q_proj.lora_B.default.weight', 'base_model.model.wav2vec2.encoder.layers.6.attention.out_proj.base_layer.weight', 'base_model.model.wav2vec2.encoder.layers.6.attention.out_proj.base_layer.bias', 'base_model.model.wav2vec2.encoder.layers.6.attention.out_proj.lora_A.default.weight', 'base_model.model.wav2vec2.encoder.layers.6.attention.out_proj.lora_B.default.weight', 'base_model.model.wav2vec2.encoder.layers.6.layer_norm.weight', 'base_model.model.wav2vec2.encoder.layers.6.layer_norm.bias', 'base_model.model.wav2vec2.encoder.layers.6.feed_forward.intermediate_dense.base_layer.weight', 'base_model.model.wav2vec2.encoder.layers.6.feed_forward.intermediate_dense.base_layer.bias', 'base_model.model.wav2vec2.encoder.layers.6.feed_forward.intermediate_dense.lora_A.default.weight', 'base_model.model.wav2vec2.encoder.layers.6.feed_forward.intermediate_dense.lora_B.default.weight', 'base_model.model.wav2vec2.encoder.layers.6.feed_forward.output_dense.base_layer.weight', 'base_model.model.wav2vec2.encoder.layers.6.feed_forward.output_dense.base_layer.bias', 'base_model.model.wav2vec2.encoder.layers.6.feed_forward.output_dense.lora_A.default.weight', 'base_model.model.wav2vec2.encoder.layers.6.feed_forward.output_dense.lora_B.default.weight', 'base_model.model.wav2vec2.encoder.layers.6.final_layer_norm.weight', 'base_model.model.wav2vec2.encoder.layers.6.final_layer_norm.bias', 'base_model.model.wav2vec2.encoder.layers.7.attention.k_proj.base_layer.weight', 'base_model.model.wav2vec2.encoder.layers.7.attention.k_proj.base_layer.bias', 'base_model.model.wav2vec2.encoder.layers.7.attention.k_proj.lora_A.default.weight', 'base_model.model.wav2vec2.encoder.layers.7.attention.k_proj.lora_B.default.weight', 'base_model.model.wav2vec2.encoder.layers.7.attention.v_proj.base_layer.weight', 'base_model.model.wav2vec2.encoder.layers.7.attention.v_proj.base_layer.bias', 'base_model.model.wav2vec2.encoder.layers.7.attention.v_proj.lora_A.default.weight', 'base_model.model.wav2vec2.encoder.layers.7.attention.v_proj.lora_B.default.weight', 'base_model.model.wav2vec2.encoder.layers.7.attention.q_proj.base_layer.weight', 'base_model.model.wav2vec2.encoder.layers.7.attention.q_proj.base_layer.bias', 'base_model.model.wav2vec2.encoder.layers.7.attention.q_proj.lora_A.default.weight', 'base_model.model.wav2vec2.encoder.layers.7.attention.q_proj.lora_B.default.weight', 'base_model.model.wav2vec2.encoder.layers.7.attention.out_proj.base_layer.weight', 'base_model.model.wav2vec2.encoder.layers.7.attention.out_proj.base_layer.bias', 'base_model.model.wav2vec2.encoder.layers.7.attention.out_proj.lora_A.default.weight', 'base_model.model.wav2vec2.encoder.layers.7.attention.out_proj.lora_B.default.weight', 'base_model.model.wav2vec2.encoder.layers.7.layer_norm.weight', 'base_model.model.wav2vec2.encoder.layers.7.layer_norm.bias', 'base_model.model.wav2vec2.encoder.layers.7.feed_forward.intermediate_dense.base_layer.weight', 'base_model.model.wav2vec2.encoder.layers.7.feed_forward.intermediate_dense.base_layer.bias', 'base_model.model.wav2vec2.encoder.layers.7.feed_forward.intermediate_dense.lora_A.default.weight', 'base_model.model.wav2vec2.encoder.layers.7.feed_forward.intermediate_dense.lora_B.default.weight', 'base_model.model.wav2vec2.encoder.layers.7.feed_forward.output_dense.base_layer.weight', 'base_model.model.wav2vec2.encoder.layers.7.feed_forward.output_dense.base_layer.bias', 'base_model.model.wav2vec2.encoder.layers.7.feed_forward.output_dense.lora_A.default.weight', 'base_model.model.wav2vec2.encoder.layers.7.feed_forward.output_dense.lora_B.default.weight', 'base_model.model.wav2vec2.encoder.layers.7.final_layer_norm.weight', 'base_model.model.wav2vec2.encoder.layers.7.final_layer_norm.bias', 'base_model.model.wav2vec2.encoder.layers.8.attention.k_proj.base_layer.weight', 'base_model.model.wav2vec2.encoder.layers.8.attention.k_proj.base_layer.bias', 'base_model.model.wav2vec2.encoder.layers.8.attention.k_proj.lora_A.default.weight', 'base_model.model.wav2vec2.encoder.layers.8.attention.k_proj.lora_B.default.weight', 'base_model.model.wav2vec2.encoder.layers.8.attention.v_proj.base_layer.weight', 'base_model.model.wav2vec2.encoder.layers.8.attention.v_proj.base_layer.bias', 'base_model.model.wav2vec2.encoder.layers.8.attention.v_proj.lora_A.default.weight', 'base_model.model.wav2vec2.encoder.layers.8.attention.v_proj.lora_B.default.weight', 'base_model.model.wav2vec2.encoder.layers.8.attention.q_proj.base_layer.weight', 'base_model.model.wav2vec2.encoder.layers.8.attention.q_proj.base_layer.bias', 'base_model.model.wav2vec2.encoder.layers.8.attention.q_proj.lora_A.default.weight', 'base_model.model.wav2vec2.encoder.layers.8.attention.q_proj.lora_B.default.weight', 'base_model.model.wav2vec2.encoder.layers.8.attention.out_proj.base_layer.weight', 'base_model.model.wav2vec2.encoder.layers.8.attention.out_proj.base_layer.bias', 'base_model.model.wav2vec2.encoder.layers.8.attention.out_proj.lora_A.default.weight', 'base_model.model.wav2vec2.encoder.layers.8.attention.out_proj.lora_B.default.weight', 'base_model.model.wav2vec2.encoder.layers.8.layer_norm.weight', 'base_model.model.wav2vec2.encoder.layers.8.layer_norm.bias', 'base_model.model.wav2vec2.encoder.layers.8.feed_forward.intermediate_dense.base_layer.weight', 'base_model.model.wav2vec2.encoder.layers.8.feed_forward.intermediate_dense.base_layer.bias', 'base_model.model.wav2vec2.encoder.layers.8.feed_forward.intermediate_dense.lora_A.default.weight', 'base_model.model.wav2vec2.encoder.layers.8.feed_forward.intermediate_dense.lora_B.default.weight', 'base_model.model.wav2vec2.encoder.layers.8.feed_forward.output_dense.base_layer.weight', 'base_model.model.wav2vec2.encoder.layers.8.feed_forward.output_dense.base_layer.bias', 'base_model.model.wav2vec2.encoder.layers.8.feed_forward.output_dense.lora_A.default.weight', 'base_model.model.wav2vec2.encoder.layers.8.feed_forward.output_dense.lora_B.default.weight', 'base_model.model.wav2vec2.encoder.layers.8.final_layer_norm.weight', 'base_model.model.wav2vec2.encoder.layers.8.final_layer_norm.bias', 'base_model.model.wav2vec2.encoder.layers.9.attention.k_proj.base_layer.weight', 'base_model.model.wav2vec2.encoder.layers.9.attention.k_proj.base_layer.bias', 'base_model.model.wav2vec2.encoder.layers.9.attention.k_proj.lora_A.default.weight', 'base_model.model.wav2vec2.encoder.layers.9.attention.k_proj.lora_B.default.weight', 'base_model.model.wav2vec2.encoder.layers.9.attention.v_proj.base_layer.weight', 'base_model.model.wav2vec2.encoder.layers.9.attention.v_proj.base_layer.bias', 'base_model.model.wav2vec2.encoder.layers.9.attention.v_proj.lora_A.default.weight', 'base_model.model.wav2vec2.encoder.layers.9.attention.v_proj.lora_B.default.weight', 'base_model.model.wav2vec2.encoder.layers.9.attention.q_proj.base_layer.weight', 'base_model.model.wav2vec2.encoder.layers.9.attention.q_proj.base_layer.bias', 'base_model.model.wav2vec2.encoder.layers.9.attention.q_proj.lora_A.default.weight', 'base_model.model.wav2vec2.encoder.layers.9.attention.q_proj.lora_B.default.weight', 'base_model.model.wav2vec2.encoder.layers.9.attention.out_proj.base_layer.weight', 'base_model.model.wav2vec2.encoder.layers.9.attention.out_proj.base_layer.bias', 'base_model.model.wav2vec2.encoder.layers.9.attention.out_proj.lora_A.default.weight', 'base_model.model.wav2vec2.encoder.layers.9.attention.out_proj.lora_B.default.weight', 'base_model.model.wav2vec2.encoder.layers.9.layer_norm.weight', 'base_model.model.wav2vec2.encoder.layers.9.layer_norm.bias', 'base_model.model.wav2vec2.encoder.layers.9.feed_forward.intermediate_dense.base_layer.weight', 'base_model.model.wav2vec2.encoder.layers.9.feed_forward.intermediate_dense.base_layer.bias', 'base_model.model.wav2vec2.encoder.layers.9.feed_forward.intermediate_dense.lora_A.default.weight', 'base_model.model.wav2vec2.encoder.layers.9.feed_forward.intermediate_dense.lora_B.default.weight', 'base_model.model.wav2vec2.encoder.layers.9.feed_forward.output_dense.base_layer.weight', 'base_model.model.wav2vec2.encoder.layers.9.feed_forward.output_dense.base_layer.bias', 'base_model.model.wav2vec2.encoder.layers.9.feed_forward.output_dense.lora_A.default.weight', 'base_model.model.wav2vec2.encoder.layers.9.feed_forward.output_dense.lora_B.default.weight', 'base_model.model.wav2vec2.encoder.layers.9.final_layer_norm.weight', 'base_model.model.wav2vec2.encoder.layers.9.final_layer_norm.bias', 'base_model.model.wav2vec2.encoder.layers.10.attention.k_proj.base_layer.weight', 'base_model.model.wav2vec2.encoder.layers.10.attention.k_proj.base_layer.bias', 'base_model.model.wav2vec2.encoder.layers.10.attention.k_proj.lora_A.default.weight', 'base_model.model.wav2vec2.encoder.layers.10.attention.k_proj.lora_B.default.weight', 'base_model.model.wav2vec2.encoder.layers.10.attention.v_proj.base_layer.weight', 'base_model.model.wav2vec2.encoder.layers.10.attention.v_proj.base_layer.bias', 'base_model.model.wav2vec2.encoder.layers.10.attention.v_proj.lora_A.default.weight', 'base_model.model.wav2vec2.encoder.layers.10.attention.v_proj.lora_B.default.weight', 'base_model.model.wav2vec2.encoder.layers.10.attention.q_proj.base_layer.weight', 'base_model.model.wav2vec2.encoder.layers.10.attention.q_proj.base_layer.bias', 'base_model.model.wav2vec2.encoder.layers.10.attention.q_proj.lora_A.default.weight', 'base_model.model.wav2vec2.encoder.layers.10.attention.q_proj.lora_B.default.weight', 'base_model.model.wav2vec2.encoder.layers.10.attention.out_proj.base_layer.weight', 'base_model.model.wav2vec2.encoder.layers.10.attention.out_proj.base_layer.bias', 'base_model.model.wav2vec2.encoder.layers.10.attention.out_proj.lora_A.default.weight', 'base_model.model.wav2vec2.encoder.layers.10.attention.out_proj.lora_B.default.weight', 'base_model.model.wav2vec2.encoder.layers.10.layer_norm.weight', 'base_model.model.wav2vec2.encoder.layers.10.layer_norm.bias', 'base_model.model.wav2vec2.encoder.layers.10.feed_forward.intermediate_dense.base_layer.weight', 'base_model.model.wav2vec2.encoder.layers.10.feed_forward.intermediate_dense.base_layer.bias', 'base_model.model.wav2vec2.encoder.layers.10.feed_forward.intermediate_dense.lora_A.default.weight', 'base_model.model.wav2vec2.encoder.layers.10.feed_forward.intermediate_dense.lora_B.default.weight', 'base_model.model.wav2vec2.encoder.layers.10.feed_forward.output_dense.base_layer.weight', 'base_model.model.wav2vec2.encoder.layers.10.feed_forward.output_dense.base_layer.bias', 'base_model.model.wav2vec2.encoder.layers.10.feed_forward.output_dense.lora_A.default.weight', 'base_model.model.wav2vec2.encoder.layers.10.feed_forward.output_dense.lora_B.default.weight', 'base_model.model.wav2vec2.encoder.layers.10.final_layer_norm.weight', 'base_model.model.wav2vec2.encoder.layers.10.final_layer_norm.bias', 'base_model.model.wav2vec2.encoder.layers.11.attention.k_proj.base_layer.weight', 'base_model.model.wav2vec2.encoder.layers.11.attention.k_proj.base_layer.bias', 'base_model.model.wav2vec2.encoder.layers.11.attention.k_proj.lora_A.default.weight', 'base_model.model.wav2vec2.encoder.layers.11.attention.k_proj.lora_B.default.weight', 'base_model.model.wav2vec2.encoder.layers.11.attention.v_proj.base_layer.weight', 'base_model.model.wav2vec2.encoder.layers.11.attention.v_proj.base_layer.bias', 'base_model.model.wav2vec2.encoder.layers.11.attention.v_proj.lora_A.default.weight', 'base_model.model.wav2vec2.encoder.layers.11.attention.v_proj.lora_B.default.weight', 'base_model.model.wav2vec2.encoder.layers.11.attention.q_proj.base_layer.weight', 'base_model.model.wav2vec2.encoder.layers.11.attention.q_proj.base_layer.bias', 'base_model.model.wav2vec2.encoder.layers.11.attention.q_proj.lora_A.default.weight', 'base_model.model.wav2vec2.encoder.layers.11.attention.q_proj.lora_B.default.weight', 'base_model.model.wav2vec2.encoder.layers.11.attention.out_proj.base_layer.weight', 'base_model.model.wav2vec2.encoder.layers.11.attention.out_proj.base_layer.bias', 'base_model.model.wav2vec2.encoder.layers.11.attention.out_proj.lora_A.default.weight', 'base_model.model.wav2vec2.encoder.layers.11.attention.out_proj.lora_B.default.weight', 'base_model.model.wav2vec2.encoder.layers.11.layer_norm.weight', 'base_model.model.wav2vec2.encoder.layers.11.layer_norm.bias', 'base_model.model.wav2vec2.encoder.layers.11.feed_forward.intermediate_dense.base_layer.weight', 'base_model.model.wav2vec2.encoder.layers.11.feed_forward.intermediate_dense.base_layer.bias', 'base_model.model.wav2vec2.encoder.layers.11.feed_forward.intermediate_dense.lora_A.default.weight', 'base_model.model.wav2vec2.encoder.layers.11.feed_forward.intermediate_dense.lora_B.default.weight', 'base_model.model.wav2vec2.encoder.layers.11.feed_forward.output_dense.base_layer.weight', 'base_model.model.wav2vec2.encoder.layers.11.feed_forward.output_dense.base_layer.bias', 'base_model.model.wav2vec2.encoder.layers.11.feed_forward.output_dense.lora_A.default.weight', 'base_model.model.wav2vec2.encoder.layers.11.feed_forward.output_dense.lora_B.default.weight', 'base_model.model.wav2vec2.encoder.layers.11.final_layer_norm.weight', 'base_model.model.wav2vec2.encoder.layers.11.final_layer_norm.bias', 'base_model.model.projector.weight', 'base_model.model.projector.bias', 'base_model.model.classifier.original_module.weight', 'base_model.model.classifier.original_module.bias', 'base_model.model.classifier.modules_to_save.default.weight', 'base_model.model.classifier.modules_to_save.default.bias'])\n"
     ]
    }
   ],
   "source": [
    "print(f\"Input Values Shape: {batch['input_values'].shape}\")\n",
    "print(f\"Labels Shape: {batch['labels'].shape}\")\n",
    "\n",
    "print(model.forward.__doc__)  # Check the forward method signature\n",
    "\n",
    "model.print_trainable_parameters()\n",
    "\n",
    "print(model.state_dict().keys())\n",
    "\n"
   ]
  },
  {
   "cell_type": "markdown",
   "metadata": {},
   "source": [
    "### Evaluating the Model"
   ]
  },
  {
   "cell_type": "code",
   "execution_count": 120,
   "metadata": {},
   "outputs": [
    {
     "name": "stdout",
     "output_type": "stream",
     "text": [
      "        Classifier  Accuracy  Precision    Recall\n",
      "0  Wav2Vec2 + LoRA  0.195192   0.069279  0.161142\n"
     ]
    },
    {
     "name": "stderr",
     "output_type": "stream",
     "text": [
      "/Users/guneeshvats/miniconda3/envs/adalat_v3/lib/python3.8/site-packages/sklearn/metrics/_classification.py:1469: UndefinedMetricWarning: Precision is ill-defined and being set to 0.0 in labels with no predicted samples. Use `zero_division` parameter to control this behavior.\n",
      "  _warn_prf(average, modifier, msg_start, len(result))\n"
     ]
    }
   ],
   "source": [
    "# Evaluate on the test set\n",
    "model.eval()\n",
    "test_preds, test_labels = [], []\n",
    "with torch.no_grad():\n",
    "    for batch in test_loader:\n",
    "        inputs = {\n",
    "            \"input_values\": batch[\"input_values\"].to(device),\n",
    "            \"labels\": batch[\"labels\"].to(device),\n",
    "        }\n",
    "        outputs = model(\n",
    "            input_values=inputs[\"input_values\"],\n",
    "            labels=inputs[\"labels\"],\n",
    "        )\n",
    "        test_preds.extend(torch.argmax(outputs.logits, dim=1).cpu().numpy())\n",
    "        test_labels.extend(inputs[\"labels\"].cpu().numpy())\n",
    "\n",
    "# Calculate metrics\n",
    "accuracy = accuracy_score(test_labels, test_preds)\n",
    "precision = precision_score(test_labels, test_preds, average=\"macro\")\n",
    "recall = recall_score(test_labels, test_preds, average=\"macro\")\n",
    "\n",
    "# Create a table\n",
    "results = pd.DataFrame({\n",
    "    \"Classifier\": [\"Wav2Vec2 + LoRA\"],\n",
    "    \"Accuracy\": [accuracy],\n",
    "    \"Precision\": [precision],\n",
    "    \"Recall\": [recall]\n",
    "})\n",
    "\n",
    "print(results)"
   ]
  },
  {
   "cell_type": "markdown",
   "metadata": {},
   "source": [
    "### Result Table"
   ]
  },
  {
   "cell_type": "code",
   "execution_count": null,
   "metadata": {},
   "outputs": [],
   "source": [
    "# results = pd.DataFrame({\n",
    "#     \"Method\": [\"Layer-Freezing Fine-Tuning\", \"LoRA Fine-Tuning\"],\n",
    "#     \"Accuracy\": [layer_freezing_accuracy * 100, lora_accuracy * 100],\n",
    "#     \"Precision\": [layer_freezing_precision * 100, lora_precision * 100],\n",
    "#     \"Recall\": [layer_freezing_recall * 100, lora_recall * 100]\n",
    "# })\n",
    "\n",
    "# # Display results\n",
    "# print(results)\n"
   ]
  },
  {
   "cell_type": "markdown",
   "metadata": {},
   "source": [
    "### Coparison between ZSC Model and Fine Tuned Model"
   ]
  },
  {
   "cell_type": "code",
   "execution_count": 122,
   "metadata": {},
   "outputs": [
    {
     "name": "stderr",
     "output_type": "stream",
     "text": [
      "/Users/guneeshvats/miniconda3/envs/adalat_v3/lib/python3.8/site-packages/sklearn/metrics/_classification.py:1469: UndefinedMetricWarning: Precision is ill-defined and being set to 0.0 in labels with no predicted samples. Use `zero_division` parameter to control this behavior.\n",
      "  _warn_prf(average, modifier, msg_start, len(result))\n"
     ]
    },
    {
     "name": "stdout",
     "output_type": "stream",
     "text": [
      "      Metric  Zero-Shot Model  Fine-Tuned Model\n",
      "0   Accuracy         0.195192          0.195192\n",
      "1  Precision         0.069279          0.069279\n",
      "2     Recall         0.161142          0.161142\n",
      "3   F1-Score         0.075213          0.075213\n"
     ]
    },
    {
     "name": "stderr",
     "output_type": "stream",
     "text": [
      "/Users/guneeshvats/miniconda3/envs/adalat_v3/lib/python3.8/site-packages/sklearn/metrics/_classification.py:1469: UndefinedMetricWarning: Precision is ill-defined and being set to 0.0 in labels with no predicted samples. Use `zero_division` parameter to control this behavior.\n",
      "  _warn_prf(average, modifier, msg_start, len(result))\n"
     ]
    }
   ],
   "source": [
    "from sklearn.metrics import accuracy_score, precision_score, recall_score, f1_score\n",
    "import pandas as pd\n",
    "\n",
    "# Evaluate Zero-Shot Model\n",
    "zero_shot_preds, zero_shot_labels = [], []\n",
    "base_model.eval()\n",
    "with torch.no_grad():\n",
    "    for batch in test_loader:\n",
    "        inputs = {\n",
    "            \"input_values\": batch[\"input_values\"].to(device),\n",
    "        }\n",
    "        outputs = model(\n",
    "            input_values=inputs[\"input_values\"]\n",
    "        )\n",
    "        zero_shot_preds.extend(torch.argmax(outputs.logits, dim=1).cpu().numpy())\n",
    "        zero_shot_labels.extend(batch[\"labels\"].cpu().numpy())\n",
    "\n",
    "# Zero-Shot Metrics\n",
    "zs_accuracy = accuracy_score(zero_shot_labels, zero_shot_preds)\n",
    "zs_precision = precision_score(zero_shot_labels, zero_shot_preds, average=\"macro\")\n",
    "zs_recall = recall_score(zero_shot_labels, zero_shot_preds, average=\"macro\")\n",
    "zs_f1 = f1_score(zero_shot_labels, zero_shot_preds, average=\"macro\")\n",
    "\n",
    "# Evaluate Fine-Tuned Model\n",
    "fine_tuned_preds, fine_tuned_labels = [], []\n",
    "model.eval()\n",
    "with torch.no_grad():\n",
    "    for batch in test_loader:\n",
    "        inputs = {\n",
    "            \"input_values\": batch[\"input_values\"].to(device),\n",
    "            \"labels\": batch[\"labels\"].to(device),\n",
    "        }\n",
    "        outputs = model(\n",
    "            input_values=inputs[\"input_values\"],\n",
    "            labels=inputs[\"labels\"],\n",
    "        )\n",
    "        fine_tuned_preds.extend(torch.argmax(outputs.logits, dim=1).cpu().numpy())\n",
    "        fine_tuned_labels.extend(batch[\"labels\"].cpu().numpy())\n",
    "\n",
    "# Fine-Tuned Metrics\n",
    "ft_accuracy = accuracy_score(fine_tuned_labels, fine_tuned_preds)\n",
    "ft_precision = precision_score(fine_tuned_labels, fine_tuned_preds, average=\"macro\")\n",
    "ft_recall = recall_score(fine_tuned_labels, fine_tuned_preds, average=\"macro\")\n",
    "ft_f1 = f1_score(fine_tuned_labels, fine_tuned_preds, average=\"macro\")\n",
    "\n",
    "# Combine Results into a Table\n",
    "comparison_table = pd.DataFrame({\n",
    "    \"Metric\": [\"Accuracy\", \"Precision\", \"Recall\", \"F1-Score\"],\n",
    "    \"Zero-Shot Model\": [zs_accuracy, zs_precision, zs_recall, zs_f1],\n",
    "    \"Fine-Tuned Model\": [ft_accuracy, ft_precision, ft_recall, ft_f1],\n",
    "})\n",
    "\n",
    "# Display the Table\n",
    "print(comparison_table)\n"
   ]
  },
  {
   "cell_type": "markdown",
   "metadata": {},
   "source": [
    "## Saving the fine tuned model"
   ]
  },
  {
   "cell_type": "code",
   "execution_count": null,
   "metadata": {},
   "outputs": [],
   "source": [
    "# Save the fine-tuned model and processor\n",
    "model.save_pretrained(\"./fine_tuned_wav2vec2\")\n",
    "processor.save_pretrained(\"./fine_tuned_wav2vec2\")\n",
    "\n",
    "print(\"Fine-tuned model and processor saved successfully!\")\n"
   ]
  },
  {
   "cell_type": "markdown",
   "metadata": {},
   "source": [
    "### To load the model you can use this \n",
    "\n",
    "`from transformers import Wav2Vec2ForSequenceClassification, Wav2Vec2Processor`\n",
    "\n",
    "`model = Wav2Vec2ForSequenceClassification.from_pretrained(\"./fine_tuned_wav2vec2\")`\n",
    "`processor = Wav2Vec2Processor.from_pretrained(\"./fine_tuned_wav2vec2\")`\n",
    "\n",
    "`print(\"Fine-tuned model and processor loaded successfully!\")`\n"
   ]
  },
  {
   "cell_type": "markdown",
   "metadata": {},
   "source": []
  },
  {
   "cell_type": "markdown",
   "metadata": {},
   "source": [
    "END OF ASSIGNMENT "
   ]
  },
  {
   "cell_type": "markdown",
   "metadata": {},
   "source": []
  }
 ],
 "metadata": {
  "kernelspec": {
   "display_name": "adalat_v3",
   "language": "python",
   "name": "python3"
  },
  "language_info": {
   "codemirror_mode": {
    "name": "ipython",
    "version": 3
   },
   "file_extension": ".py",
   "mimetype": "text/x-python",
   "name": "python",
   "nbconvert_exporter": "python",
   "pygments_lexer": "ipython3",
   "version": "3.8.12"
  }
 },
 "nbformat": 4,
 "nbformat_minor": 2
}
